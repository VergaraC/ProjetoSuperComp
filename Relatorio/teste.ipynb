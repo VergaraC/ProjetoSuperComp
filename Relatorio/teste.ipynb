{
 "cells": [
  {
   "cell_type": "code",
   "execution_count": 1,
   "metadata": {},
   "outputs": [],
   "source": [
    "import matplotlib.pyplot as plt\n",
    "import os\n",
    "import numpy as np\n",
    "import random\n",
    "import pandas as pd\n",
    "import time\n",
    "import subprocess\n",
    "import pickle\n",
    "from mpl_toolkits.mplot3d import Axes3D\n"
   ]
  },
  {
   "cell_type": "code",
   "execution_count": 3,
   "metadata": {},
   "outputs": [],
   "source": [
    "def roda_com_entrada(ex, in_f):\n",
    "    with open(in_f) as f:\n",
    "        start = time.perf_counter()\n",
    "        proc = subprocess.run([ex], input=f.read(), text=True, capture_output=True)\n",
    "        end = time.perf_counter()\n",
    "\n",
    "    return end-start\n",
    "algoritimos = [\"./exaustiva\", \"./random\", \"./smithWaterman\", \"./paraleloexaus\", \"./exaustivaSmithWaterman\"]"
   ]
  },
  {
   "cell_type": "code",
   "execution_count": 14,
   "metadata": {},
   "outputs": [
    {
     "name": "stdout",
     "output_type": "stream",
     "text": [
      "I  0  de  63  rodado\n"
     ]
    }
   ],
   "source": [
    "timeExaustiva = list()\n",
    "#timeLocal = list()\n",
    "#timeSmithWaterman = list()\n",
    "#timeParallelLocal = list()\n",
    "#timeParallelExaustivaSmithWaterman = list()\n",
    "i = 63\n",
    "i2 = 0\n",
    "\n",
    "while i2 <= i :\n",
    "    seq = \"dna\" + str(i2)\n",
    "    t1 = roda_com_entrada(algoritimos[0], seq)\n",
    "    timeExaustiva.append(t1)\n",
    "    '''\n",
    "    t2 = roda_com_entrada(algoritimos[1], seq)\n",
    "    timeLocal.append(t2)\n",
    "    t3 = roda_com_entrada(algoritimos[2], seq)\n",
    "    timeSmithWaterman.append(t3)'''\n",
    "    print(\"I \", i2, \" de \", i, \" rodado\")\n",
    "    i2 += 1"
   ]
  },
  {
   "cell_type": "code",
   "execution_count": null,
   "metadata": {},
   "outputs": [],
   "source": []
  },
  {
   "cell_type": "code",
   "execution_count": null,
   "metadata": {},
   "outputs": [],
   "source": []
  }
 ],
 "metadata": {
  "interpreter": {
   "hash": "31f2aee4e71d21fbe5cf8b01ff0e069b9275f58929596ceb00d14d90e3e16cd6"
  },
  "kernelspec": {
   "display_name": "Python 3.10.4 64-bit",
   "language": "python",
   "name": "python3"
  },
  "language_info": {
   "codemirror_mode": {
    "name": "ipython",
    "version": 3
   },
   "file_extension": ".py",
   "mimetype": "text/x-python",
   "name": "python",
   "nbconvert_exporter": "python",
   "pygments_lexer": "ipython3",
   "version": "3.10.4"
  },
  "orig_nbformat": 4
 },
 "nbformat": 4,
 "nbformat_minor": 2
}
