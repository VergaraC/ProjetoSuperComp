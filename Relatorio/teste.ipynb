{
 "cells": [
  {
   "cell_type": "code",
   "execution_count": 3,
   "metadata": {},
   "outputs": [],
   "source": [
    "import matplotlib.pyplot as plt\n",
    "import os\n",
    "import numpy as np\n",
    "import random\n",
    "import pandas as pd\n",
    "import time\n",
    "import subprocess\n",
    "import pickle\n",
    "from mpl_toolkits.mplot3d import Axes3D\n"
   ]
  },
  {
   "cell_type": "code",
   "execution_count": 4,
   "metadata": {},
   "outputs": [],
   "source": [
    "def roda_com_entrada(ex, in_f):\n",
    "    with open(in_f) as f:\n",
    "        start = time.perf_counter()\n",
    "        proc = subprocess.run([ex], input=f.read(), text=True, capture_output=True)\n",
    "        end = time.perf_counter()\n",
    "\n",
    "    return end-start\n",
    "algoritimos = [\"./exaustiva\", \"./random\", \"./smithWaterman\", \"./paraleloexaus\", \"./exaustivaSmithWaterman\"]"
   ]
  },
  {
   "cell_type": "code",
   "execution_count": 5,
   "metadata": {},
   "outputs": [
    {
     "name": "stdout",
     "output_type": "stream",
     "text": [
      "I  0  de  63  rodado\n",
      "I  1  de  63  rodado\n"
     ]
    },
    {
     "ename": "KeyboardInterrupt",
     "evalue": "",
     "output_type": "error",
     "traceback": [
      "\u001b[0;31m---------------------------------------------------------------------------\u001b[0m",
      "\u001b[0;31mKeyboardInterrupt\u001b[0m                         Traceback (most recent call last)",
      "\u001b[1;32m/home/tyr/Desktop/ProjetoSuperComp/Relatorio/teste.ipynb Cell 3'\u001b[0m in \u001b[0;36m<cell line: 9>\u001b[0;34m()\u001b[0m\n\u001b[1;32m      <a href='vscode-notebook-cell:/home/tyr/Desktop/ProjetoSuperComp/Relatorio/teste.ipynb#ch0000002?line=8'>9</a>\u001b[0m \u001b[39mwhile\u001b[39;00m i2 \u001b[39m<\u001b[39m\u001b[39m=\u001b[39m i :\n\u001b[1;32m     <a href='vscode-notebook-cell:/home/tyr/Desktop/ProjetoSuperComp/Relatorio/teste.ipynb#ch0000002?line=9'>10</a>\u001b[0m     seq \u001b[39m=\u001b[39m \u001b[39m\"\u001b[39m\u001b[39mdna\u001b[39m\u001b[39m\"\u001b[39m \u001b[39m+\u001b[39m \u001b[39mstr\u001b[39m(i2)\n\u001b[0;32m---> <a href='vscode-notebook-cell:/home/tyr/Desktop/ProjetoSuperComp/Relatorio/teste.ipynb#ch0000002?line=10'>11</a>\u001b[0m     t1 \u001b[39m=\u001b[39m roda_com_entrada(algoritimos[\u001b[39m0\u001b[39;49m], seq)\n\u001b[1;32m     <a href='vscode-notebook-cell:/home/tyr/Desktop/ProjetoSuperComp/Relatorio/teste.ipynb#ch0000002?line=11'>12</a>\u001b[0m     timeExaustiva\u001b[39m.\u001b[39mappend(t1)\n\u001b[1;32m     <a href='vscode-notebook-cell:/home/tyr/Desktop/ProjetoSuperComp/Relatorio/teste.ipynb#ch0000002?line=12'>13</a>\u001b[0m     \u001b[39m'''\u001b[39;00m\n\u001b[1;32m     <a href='vscode-notebook-cell:/home/tyr/Desktop/ProjetoSuperComp/Relatorio/teste.ipynb#ch0000002?line=13'>14</a>\u001b[0m \u001b[39m    t2 = roda_com_entrada(algoritimos[1], seq)\u001b[39;00m\n\u001b[1;32m     <a href='vscode-notebook-cell:/home/tyr/Desktop/ProjetoSuperComp/Relatorio/teste.ipynb#ch0000002?line=14'>15</a>\u001b[0m \u001b[39m    timeLocal.append(t2)\u001b[39;00m\n\u001b[1;32m     <a href='vscode-notebook-cell:/home/tyr/Desktop/ProjetoSuperComp/Relatorio/teste.ipynb#ch0000002?line=15'>16</a>\u001b[0m \u001b[39m    t3 = roda_com_entrada(algoritimos[2], seq)\u001b[39;00m\n\u001b[1;32m     <a href='vscode-notebook-cell:/home/tyr/Desktop/ProjetoSuperComp/Relatorio/teste.ipynb#ch0000002?line=16'>17</a>\u001b[0m \u001b[39m    timeSmithWaterman.append(t3)'''\u001b[39;00m\n",
      "\u001b[1;32m/home/tyr/Desktop/ProjetoSuperComp/Relatorio/teste.ipynb Cell 2'\u001b[0m in \u001b[0;36mroda_com_entrada\u001b[0;34m(ex, in_f)\u001b[0m\n\u001b[1;32m      <a href='vscode-notebook-cell:/home/tyr/Desktop/ProjetoSuperComp/Relatorio/teste.ipynb#ch0000001?line=1'>2</a>\u001b[0m \u001b[39mwith\u001b[39;00m \u001b[39mopen\u001b[39m(in_f) \u001b[39mas\u001b[39;00m f:\n\u001b[1;32m      <a href='vscode-notebook-cell:/home/tyr/Desktop/ProjetoSuperComp/Relatorio/teste.ipynb#ch0000001?line=2'>3</a>\u001b[0m     start \u001b[39m=\u001b[39m time\u001b[39m.\u001b[39mperf_counter()\n\u001b[0;32m----> <a href='vscode-notebook-cell:/home/tyr/Desktop/ProjetoSuperComp/Relatorio/teste.ipynb#ch0000001?line=3'>4</a>\u001b[0m     proc \u001b[39m=\u001b[39m subprocess\u001b[39m.\u001b[39;49mrun([ex], \u001b[39minput\u001b[39;49m\u001b[39m=\u001b[39;49mf\u001b[39m.\u001b[39;49mread(), text\u001b[39m=\u001b[39;49m\u001b[39mTrue\u001b[39;49;00m, capture_output\u001b[39m=\u001b[39;49m\u001b[39mTrue\u001b[39;49;00m)\n\u001b[1;32m      <a href='vscode-notebook-cell:/home/tyr/Desktop/ProjetoSuperComp/Relatorio/teste.ipynb#ch0000001?line=4'>5</a>\u001b[0m     end \u001b[39m=\u001b[39m time\u001b[39m.\u001b[39mperf_counter()\n\u001b[1;32m      <a href='vscode-notebook-cell:/home/tyr/Desktop/ProjetoSuperComp/Relatorio/teste.ipynb#ch0000001?line=6'>7</a>\u001b[0m \u001b[39mreturn\u001b[39;00m end\u001b[39m-\u001b[39mstart\n",
      "File \u001b[0;32m/usr/lib/python3.10/subprocess.py:503\u001b[0m, in \u001b[0;36mrun\u001b[0;34m(input, capture_output, timeout, check, *popenargs, **kwargs)\u001b[0m\n\u001b[1;32m    <a href='file:///usr/lib/python3.10/subprocess.py?line=500'>501</a>\u001b[0m \u001b[39mwith\u001b[39;00m Popen(\u001b[39m*\u001b[39mpopenargs, \u001b[39m*\u001b[39m\u001b[39m*\u001b[39mkwargs) \u001b[39mas\u001b[39;00m process:\n\u001b[1;32m    <a href='file:///usr/lib/python3.10/subprocess.py?line=501'>502</a>\u001b[0m     \u001b[39mtry\u001b[39;00m:\n\u001b[0;32m--> <a href='file:///usr/lib/python3.10/subprocess.py?line=502'>503</a>\u001b[0m         stdout, stderr \u001b[39m=\u001b[39m process\u001b[39m.\u001b[39;49mcommunicate(\u001b[39minput\u001b[39;49m, timeout\u001b[39m=\u001b[39;49mtimeout)\n\u001b[1;32m    <a href='file:///usr/lib/python3.10/subprocess.py?line=503'>504</a>\u001b[0m     \u001b[39mexcept\u001b[39;00m TimeoutExpired \u001b[39mas\u001b[39;00m exc:\n\u001b[1;32m    <a href='file:///usr/lib/python3.10/subprocess.py?line=504'>505</a>\u001b[0m         process\u001b[39m.\u001b[39mkill()\n",
      "File \u001b[0;32m/usr/lib/python3.10/subprocess.py:1149\u001b[0m, in \u001b[0;36mPopen.communicate\u001b[0;34m(self, input, timeout)\u001b[0m\n\u001b[1;32m   <a href='file:///usr/lib/python3.10/subprocess.py?line=1145'>1146</a>\u001b[0m     endtime \u001b[39m=\u001b[39m \u001b[39mNone\u001b[39;00m\n\u001b[1;32m   <a href='file:///usr/lib/python3.10/subprocess.py?line=1147'>1148</a>\u001b[0m \u001b[39mtry\u001b[39;00m:\n\u001b[0;32m-> <a href='file:///usr/lib/python3.10/subprocess.py?line=1148'>1149</a>\u001b[0m     stdout, stderr \u001b[39m=\u001b[39m \u001b[39mself\u001b[39;49m\u001b[39m.\u001b[39;49m_communicate(\u001b[39minput\u001b[39;49m, endtime, timeout)\n\u001b[1;32m   <a href='file:///usr/lib/python3.10/subprocess.py?line=1149'>1150</a>\u001b[0m \u001b[39mexcept\u001b[39;00m \u001b[39mKeyboardInterrupt\u001b[39;00m:\n\u001b[1;32m   <a href='file:///usr/lib/python3.10/subprocess.py?line=1150'>1151</a>\u001b[0m     \u001b[39m# https://bugs.python.org/issue25942\u001b[39;00m\n\u001b[1;32m   <a href='file:///usr/lib/python3.10/subprocess.py?line=1151'>1152</a>\u001b[0m     \u001b[39m# See the detailed comment in .wait().\u001b[39;00m\n\u001b[1;32m   <a href='file:///usr/lib/python3.10/subprocess.py?line=1152'>1153</a>\u001b[0m     \u001b[39mif\u001b[39;00m timeout \u001b[39mis\u001b[39;00m \u001b[39mnot\u001b[39;00m \u001b[39mNone\u001b[39;00m:\n",
      "File \u001b[0;32m/usr/lib/python3.10/subprocess.py:2000\u001b[0m, in \u001b[0;36mPopen._communicate\u001b[0;34m(self, input, endtime, orig_timeout)\u001b[0m\n\u001b[1;32m   <a href='file:///usr/lib/python3.10/subprocess.py?line=1992'>1993</a>\u001b[0m     \u001b[39mself\u001b[39m\u001b[39m.\u001b[39m_check_timeout(endtime, orig_timeout,\n\u001b[1;32m   <a href='file:///usr/lib/python3.10/subprocess.py?line=1993'>1994</a>\u001b[0m                         stdout, stderr,\n\u001b[1;32m   <a href='file:///usr/lib/python3.10/subprocess.py?line=1994'>1995</a>\u001b[0m                         skip_check_and_raise\u001b[39m=\u001b[39m\u001b[39mTrue\u001b[39;00m)\n\u001b[1;32m   <a href='file:///usr/lib/python3.10/subprocess.py?line=1995'>1996</a>\u001b[0m     \u001b[39mraise\u001b[39;00m \u001b[39mRuntimeError\u001b[39;00m(  \u001b[39m# Impossible :)\u001b[39;00m\n\u001b[1;32m   <a href='file:///usr/lib/python3.10/subprocess.py?line=1996'>1997</a>\u001b[0m         \u001b[39m'\u001b[39m\u001b[39m_check_timeout(..., skip_check_and_raise=True) \u001b[39m\u001b[39m'\u001b[39m\n\u001b[1;32m   <a href='file:///usr/lib/python3.10/subprocess.py?line=1997'>1998</a>\u001b[0m         \u001b[39m'\u001b[39m\u001b[39mfailed to raise TimeoutExpired.\u001b[39m\u001b[39m'\u001b[39m)\n\u001b[0;32m-> <a href='file:///usr/lib/python3.10/subprocess.py?line=1999'>2000</a>\u001b[0m ready \u001b[39m=\u001b[39m selector\u001b[39m.\u001b[39;49mselect(timeout)\n\u001b[1;32m   <a href='file:///usr/lib/python3.10/subprocess.py?line=2000'>2001</a>\u001b[0m \u001b[39mself\u001b[39m\u001b[39m.\u001b[39m_check_timeout(endtime, orig_timeout, stdout, stderr)\n\u001b[1;32m   <a href='file:///usr/lib/python3.10/subprocess.py?line=2002'>2003</a>\u001b[0m \u001b[39m# XXX Rewrite these to use non-blocking I/O on the file\u001b[39;00m\n\u001b[1;32m   <a href='file:///usr/lib/python3.10/subprocess.py?line=2003'>2004</a>\u001b[0m \u001b[39m# objects; they are no longer using C stdio!\u001b[39;00m\n",
      "File \u001b[0;32m/usr/lib/python3.10/selectors.py:416\u001b[0m, in \u001b[0;36m_PollLikeSelector.select\u001b[0;34m(self, timeout)\u001b[0m\n\u001b[1;32m    <a href='file:///usr/lib/python3.10/selectors.py?line=413'>414</a>\u001b[0m ready \u001b[39m=\u001b[39m []\n\u001b[1;32m    <a href='file:///usr/lib/python3.10/selectors.py?line=414'>415</a>\u001b[0m \u001b[39mtry\u001b[39;00m:\n\u001b[0;32m--> <a href='file:///usr/lib/python3.10/selectors.py?line=415'>416</a>\u001b[0m     fd_event_list \u001b[39m=\u001b[39m \u001b[39mself\u001b[39;49m\u001b[39m.\u001b[39;49m_selector\u001b[39m.\u001b[39;49mpoll(timeout)\n\u001b[1;32m    <a href='file:///usr/lib/python3.10/selectors.py?line=416'>417</a>\u001b[0m \u001b[39mexcept\u001b[39;00m \u001b[39mInterruptedError\u001b[39;00m:\n\u001b[1;32m    <a href='file:///usr/lib/python3.10/selectors.py?line=417'>418</a>\u001b[0m     \u001b[39mreturn\u001b[39;00m ready\n",
      "\u001b[0;31mKeyboardInterrupt\u001b[0m: "
     ]
    }
   ],
   "source": [
    "timeExaustiva = list()\n",
    "#timeLocal = list()\n",
    "#timeSmithWaterman = list()\n",
    "#timeParallelLocal = list()\n",
    "#timeParallelExaustivaSmithWaterman = list()\n",
    "i = 63\n",
    "i2 = 0\n",
    "\n",
    "while i2 <= i :\n",
    "    seq = \"dna\" + str(i2)\n",
    "    t1 = roda_com_entrada(algoritimos[0], seq)\n",
    "    timeExaustiva.append(t1)\n",
    "    '''\n",
    "    t2 = roda_com_entrada(algoritimos[1], seq)\n",
    "    timeLocal.append(t2)\n",
    "    t3 = roda_com_entrada(algoritimos[2], seq)\n",
    "    timeSmithWaterman.append(t3)'''\n",
    "    print(\"I \", i2, \" de \", i, \" rodado\")\n",
    "    i2 += 1"
   ]
  },
  {
   "cell_type": "code",
   "execution_count": 6,
   "metadata": {},
   "outputs": [
    {
     "name": "stdout",
     "output_type": "stream",
     "text": [
      "[0.6897523780007759, 33.897604683999816]\n"
     ]
    }
   ],
   "source": [
    "print(timeExaustiva)"
   ]
  },
  {
   "cell_type": "code",
   "execution_count": null,
   "metadata": {},
   "outputs": [],
   "source": []
  }
 ],
 "metadata": {
  "interpreter": {
   "hash": "31f2aee4e71d21fbe5cf8b01ff0e069b9275f58929596ceb00d14d90e3e16cd6"
  },
  "kernelspec": {
   "display_name": "Python 3.10.4 64-bit",
   "language": "python",
   "name": "python3"
  },
  "language_info": {
   "codemirror_mode": {
    "name": "ipython",
    "version": 3
   },
   "file_extension": ".py",
   "mimetype": "text/x-python",
   "name": "python",
   "nbconvert_exporter": "python",
   "pygments_lexer": "ipython3",
   "version": "3.10.4"
  },
  "orig_nbformat": 4
 },
 "nbformat": 4,
 "nbformat_minor": 2
}
