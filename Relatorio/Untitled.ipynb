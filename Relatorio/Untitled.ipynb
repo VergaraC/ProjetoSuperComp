{
  "cells": [
    {
      "cell_type": "markdown",
      "metadata": {
        "id": "view-in-github",
        "colab_type": "text"
      },
      "source": [
        "<a href=\"https://colab.research.google.com/github/VergaraC/ProjetoSuperComp/blob/main/Relatorio/Untitled.ipynb\" target=\"_parent\"><img src=\"https://colab.research.google.com/assets/colab-badge.svg\" alt=\"Open In Colab\"/></a>"
      ]
    },
    {
      "cell_type": "code",
      "execution_count": 1,
      "metadata": {
        "id": "Tqn6m7GCXTqM"
      },
      "outputs": [],
      "source": [
        "import matplotlib.pyplot as plt\n",
        "import os\n",
        "import numpy as np\n",
        "import random\n",
        "import pandas as pd\n",
        "import time\n",
        "import subprocess\n",
        "import pickle\n",
        "from mpl_toolkits.mplot3d import Axes3D\n"
      ]
    },
    {
      "cell_type": "code",
      "source": [
        "%%writefile parallelCPU.cpp\n",
        "#include <vector>\n",
        "#include <algorithm>  \n",
        "#include <iostream>\n",
        "#include <string.h>\n",
        "#include <random>\n",
        "#include <omp.h>\n",
        "#include <bits/stdc++.h>\n",
        "#include <fstream>\n",
        "\n",
        "\n",
        "using namespace std;\n",
        "\n",
        "int comparar(char seq1, char seq2){\n",
        "    if(seq1 == seq2){ //match\n",
        "        return 2;\n",
        "    }else{\n",
        "        return -1; //mismatch ou gap\n",
        "    }\n",
        "}\n",
        "int compararSeqs(string seq1, string seq2){\n",
        "    int res = 0;\n",
        "    for(int i = 0; i <= int(seq1.size()); i++){\n",
        "        res += comparar(seq1[i], seq2[i]);\n",
        "    }\n",
        "    return res;\n",
        "}\n",
        "vector<string> getSubStrings(string A){\n",
        "    vector<string> all;\n",
        "    for(int i = 0; i <= int(A.size()); i++){\n",
        "        for (int j = 0; j < int(A.size()); j++ ){\n",
        "            all.push_back(A.substr(i,j));\n",
        "        }\n",
        "    }\n",
        "    return all;\n",
        "}\n",
        "int main(){\n",
        "    omp_set_num_threads(8);\n",
        "    int len1, len2;\n",
        "    string seq1, seq2;\n",
        "\n",
        "    cin >> len1;\n",
        "    cin >> len2;\n",
        "\n",
        "    cin >> seq1;\n",
        "    cin >> seq2;\n",
        "    \n",
        "    vector<string> seq1All = getSubStrings(seq1);\n",
        "    vector<string> seq2All = getSubStrings(seq2);\n",
        "\n",
        "    int score = 0;\n",
        "    int bestScore = -(len1+len2);\n",
        "\n",
        "    string best1, best2;\n",
        "    #pragma omp parallel for reduction(max:bestScore) \n",
        "    for(auto&s1: seq1All){\n",
        "        for(auto&s2: seq2All){\n",
        "            if(s2.length() == s1.length()){\n",
        "                score = compararSeqs(s1, s2);\n",
        "                if(score > bestScore){\n",
        "                    bestScore = score;\n",
        "                    best1 = s1;\n",
        "                    best2 = s2;\n",
        "                }\n",
        "            }\n",
        "        }\n",
        "    }\n",
        "    cout << \"Max Score:  \" << bestScore << endl;\n",
        "    cout << \"Best Seq1:  \" << best1 << endl;\n",
        "    cout << \"Best Seq2:  \" << best2 << endl;\n",
        "}"
      ],
      "metadata": {
        "id": "7RgzS64kXxOq",
        "outputId": "1ef990d6-81ff-443c-aac0-6f59eba22421",
        "colab": {
          "base_uri": "https://localhost:8080/"
        }
      },
      "execution_count": 10,
      "outputs": [
        {
          "output_type": "stream",
          "name": "stdout",
          "text": [
            "Overwriting parallelCPU.cpp\n"
          ]
        }
      ]
    },
    {
      "cell_type": "code",
      "source": [
        "%%bash \n",
        "\n",
        "g++ -fopenmp parallelCPU.cpp -o paraleloexaus \n"
      ],
      "metadata": {
        "id": "Jp6Pw1JcXxYW",
        "outputId": "7a0e6b27-c90b-457e-acbe-f40659627ff6",
        "colab": {
          "base_uri": "https://localhost:8080/"
        }
      },
      "execution_count": 11,
      "outputs": [
        {
          "output_type": "stream",
          "name": "stderr",
          "text": [
            "parallelCPU.cpp: In function ‘int main()’:\n",
            "parallelCPU.cpp:55:16: error: found ‘:’ in nested-name-specifier, expected ‘::’\n",
            "     for(auto&s1: seq1All){\n",
            "                ^\n",
            "parallelCPU.cpp:55:14: error: ‘s1’ has not been declared\n",
            "     for(auto&s1: seq1All){\n",
            "              ^~\n",
            "parallelCPU.cpp:55:25: error: qualified-id in declaration before ‘)’ token\n",
            "     for(auto&s1: seq1All){\n",
            "                         ^\n",
            "parallelCPU.cpp:55:25: error: expected ‘=’ before ‘)’ token\n",
            "parallelCPU.cpp:67:5: error: expected ‘;’ before ‘cout’\n",
            "     cout << \"Max Score:  \" << bestScore << endl;\n",
            "     ^~~~\n",
            "parallelCPU.cpp:68:44: error: expected ‘)’ before ‘;’ token\n",
            "     cout << \"Best Seq1:  \" << best1 << endl;\n",
            "                                            ^\n",
            "parallelCPU.cpp:55:5: error: expected iteration declaration or initialization\n",
            "     for(auto&s1: seq1All){\n",
            "     ^~~\n"
          ]
        }
      ]
    },
    {
      "cell_type": "code",
      "source": [
        ""
      ],
      "metadata": {
        "id": "VW6Ws3H5XxfS"
      },
      "execution_count": null,
      "outputs": []
    },
    {
      "cell_type": "code",
      "execution_count": 12,
      "metadata": {
        "id": "J4gqY8TOXTqQ"
      },
      "outputs": [],
      "source": [
        "algoritimos = [\"./exaustiva\", \"./random\", \"./smithWaterman\", \"./paraleloexaus\", \"./exaustivaSmithWaterman\"]"
      ]
    },
    {
      "cell_type": "code",
      "execution_count": 13,
      "metadata": {
        "id": "1zzvEWVKXTqQ",
        "outputId": "2bcb56e3-d719-4c13-bd9d-4bd06270bb33",
        "colab": {
          "base_uri": "https://localhost:8080/"
        }
      },
      "outputs": [
        {
          "output_type": "stream",
          "name": "stdout",
          "text": [
            "dna0\n",
            "dna1\n",
            "dna2\n",
            "dna3\n",
            "dna4\n",
            "dna5\n",
            "dna6\n",
            "dna7\n",
            "dna8\n",
            "dna9\n",
            "dna10\n",
            "dna11\n",
            "dna12\n",
            "dna13\n",
            "dna14\n",
            "dna15\n",
            "dna16\n",
            "dna17\n",
            "dna18\n",
            "dna19\n",
            "dna20\n",
            "dna21\n",
            "dna22\n",
            "dna23\n",
            "dna24\n",
            "dna25\n",
            "dna26\n",
            "dna27\n",
            "dna28\n",
            "dna29\n",
            "dna30\n",
            "dna31\n",
            "dna32\n",
            "dna33\n",
            "dna34\n",
            "dna35\n",
            "dna36\n",
            "dna37\n",
            "dna38\n",
            "dna39\n",
            "dna40\n",
            "dna41\n",
            "dna42\n",
            "dna43\n",
            "dna44\n",
            "dna45\n",
            "dna46\n",
            "dna47\n",
            "dna48\n",
            "dna49\n",
            "dna50\n",
            "dna51\n",
            "dna52\n",
            "dna53\n",
            "dna54\n",
            "dna55\n",
            "dna56\n",
            "dna57\n",
            "dna58\n",
            "dna59\n",
            "dna60\n",
            "dna61\n",
            "dna62\n",
            "dna63\n",
            "64\n"
          ]
        }
      ],
      "source": [
        "#def createDnaSequences():\n",
        "nao rodar novamente\n",
        "seqList= list()\n",
        "i=0\n",
        "for n in range(100, 2500, 300):\n",
        "   for m in range(100, 2500, 300):\n",
        "        #file = \"dna\" + str(n) + \"-\" + str(m) + \"-\" + str(i)\n",
        "        file = \"dna\"+ str(i)\n",
        "        print(file)\n",
        "        f = open(file, 'w')\n",
        "\n",
        "\n",
        "        seq=[str(n)+'\\n',\n",
        "             str(m)+'\\n',\n",
        "             ''.join(random.choices(['A','T','C','G','-'],k=n))+'\\n',\n",
        "             ''.join(random.choices(['A','T','C','G','-'],k=m))]\n",
        "        f.writelines(seq)\n",
        "        f.close()\n",
        "        #seqList.append(seq)\n",
        "        i += 1\n",
        "print(i)\n",
        "        \n",
        "    #return seqList"
      ]
    },
    {
      "cell_type": "code",
      "execution_count": 14,
      "metadata": {
        "id": "8szePawyXTqR"
      },
      "outputs": [],
      "source": [
        "def roda_com_entrada(ex, in_f):\n",
        "    with open(in_f) as f:\n",
        "        start = time.perf_counter()\n",
        "        proc = subprocess.run([ex], input=f.read(), text=True, capture_output=True)\n",
        "        end = time.perf_counter()\n",
        "\n",
        "    return end-start"
      ]
    },
    {
      "cell_type": "code",
      "execution_count": null,
      "metadata": {
        "id": "_txXSMSqXTqR",
        "outputId": "5f2f4ce6-ae8e-4c79-f194-85e776b5593f",
        "colab": {
          "base_uri": "https://localhost:8080/"
        }
      },
      "outputs": [
        {
          "output_type": "stream",
          "name": "stdout",
          "text": [
            "I  0  de  64  rodado\n",
            "I  1  de  64  rodado\n",
            "I  2  de  64  rodado\n",
            "I  3  de  64  rodado\n",
            "I  4  de  64  rodado\n",
            "I  5  de  64  rodado\n",
            "I  6  de  64  rodado\n",
            "I  7  de  64  rodado\n",
            "I  8  de  64  rodado\n",
            "I  9  de  64  rodado\n",
            "I  10  de  64  rodado\n",
            "I  11  de  64  rodado\n",
            "I  12  de  64  rodado\n"
          ]
        }
      ],
      "source": [
        "timeExaustiva = list()\n",
        "timeLocal = list()\n",
        "timeSmithWaterman = list()\n",
        "timeParallelLocal = list()\n",
        "timeParallelExaustivaSmithWaterman = list()\n",
        "\n",
        "i2 = 0\n",
        "\n",
        "while i2< i:\n",
        "    seq = \"dna\" + str(i2)\n",
        "    t1 = roda_com_entrada(algoritimos[0], seq)\n",
        "    timeExaustiva.append(t1)\n",
        "    t2 = roda_com_entrada(algoritimos[1], seq)\n",
        "    timeLocal.append(t2)\n",
        "    t3 = roda_com_entrada(algoritimos[2], seq)\n",
        "    timeSmithWaterman.append(t3)\n",
        "    print(\"I \", i2, \" de \", i, \" rodado\")\n",
        "    i2 += 1"
      ]
    },
    {
      "cell_type": "code",
      "execution_count": null,
      "metadata": {
        "id": "fju4lqrVXTqS"
      },
      "outputs": [],
      "source": [
        "# resultados do smithwaterman estao na lista errada\n",
        "//print(len(timeSmithWaterman))\n",
        "tamanho1Utilizado = list()\n",
        "tamanho2Utilizado = list()\n",
        "for s1 in range(1,2500, 300):\n",
        "    for s2 in range(1,2500, 300):\n",
        "        tamanho1Utilizado.append(s1)\n",
        "        tamanho2Utilizado.append(s2)\n",
        "        print(s1, \"  \", s2)\n"
      ]
    },
    {
      "cell_type": "code",
      "execution_count": null,
      "metadata": {
        "id": "mgOxjXgtXTqT"
      },
      "outputs": [],
      "source": [
        "fig = plt.figure(figsize=(55,30))\n",
        "heuristica_graph = fig.add_subplot(133, projection='3d')\n",
        "heuristica_graph.plot_trisurf(tamanho2UtilizadoReal, tamanho1UtilizadoReal, timeExaustiva,cmap='magma')\n",
        "heuristica_graph.set_xlabel('Tamanho da sequencia B')\n",
        "heuristica_graph.set_ylabel('Tamanho da sequencia A')\n",
        "heuristica_graph.set_zlabel('Tempo (ms)')\n",
        "heuristica_graph.set_title('Heuristica Smith-Waterman')"
      ]
    },
    {
      "cell_type": "code",
      "execution_count": null,
      "metadata": {
        "id": "HkclgMOLXTqU"
      },
      "outputs": [],
      "source": [
        "fig = plt.figure(figsize=(55,30))\n",
        "heuristica_graph = fig.add_subplot(133, projection='3d')\n",
        "heuristica_graph.plot_trisurf(tamanho2UtilizadoReal, tamanho1UtilizadoReal, timeLocal,cmap='magma')\n",
        "heuristica_graph.set_xlabel('Tamanho da sequencia B')\n",
        "heuristica_graph.set_ylabel('Tamanho da sequencia A')\n",
        "heuristica_graph.set_zlabel('Tempo (s)')\n",
        "heuristica_graph.set_title('Busca Local')"
      ]
    },
    {
      "cell_type": "code",
      "execution_count": null,
      "metadata": {
        "id": "62NCwZpBXTqU"
      },
      "outputs": [],
      "source": [
        "timeExaustiva\n",
        "fig = plt.figure(figsize=(55,30))\n",
        "heuristica_graph = fig.add_subplot(133, projection='3d')\n",
        "heuristica_graph.plot_trisurf(tamanho2UtilizadoReal, tamanho1UtilizadoReal, timeExaustiva,cmap='magma')\n",
        "heuristica_graph.set_xlabel('Tamanho da sequencia B')\n",
        "heuristica_graph.set_ylabel('Tamanho da sequencia A')\n",
        "heuristica_graph.set_zlabel('Tempo (s)')\n",
        "heuristica_graph.set_title('Busca Exaustiva')"
      ]
    },
    {
      "cell_type": "markdown",
      "metadata": {
        "id": "hJGOag2uXTqV"
      },
      "source": [
        "## Smith Waterman ##\n",
        "\n",
        "A Heurística de Smith-WaterMan é uma boa solução caso queira um balanço entre acurácia e tempo para rodar o algoritimo. O problema de utilizar essa heurística é que ela cria uma matriz m X n (tamanho da primeira sequência X tamanho da segunda sequência), assim para sequências muito grandes a matriz fica muito grande, assim pode gerar um problema para paralelizar o algoritimo, especialmente em GPUs, visto que a memória ocupada pela matriz acaba sendo muito grande podendo passar da memória para os cores."
      ]
    },
    {
      "cell_type": "markdown",
      "metadata": {
        "id": "8Eq9wDHyXTqX"
      },
      "source": [
        "## Busca Local ##\n",
        "\n",
        "A Busca Local é a solução mais rápida, mas por utilizar aleatoriedade o seu resultado não é confiável "
      ]
    },
    {
      "cell_type": "markdown",
      "metadata": {
        "id": "JC9B8pduXTqY"
      },
      "source": [
        "## Busca Exaustiva ##\n",
        "\n",
        "A Busca Exaustiva sempre retorna o resultado correto, visto que compara todas as possibilidades, com isso esssa busca é a mais demorada"
      ]
    },
    {
      "cell_type": "markdown",
      "metadata": {
        "id": "K51L-ZWAXTqY"
      },
      "source": [
        ""
      ]
    },
    {
      "cell_type": "code",
      "execution_count": null,
      "metadata": {
        "id": "17lbt2TlXTqZ"
      },
      "outputs": [],
      "source": [
        "i2 = 0\n",
        "\n",
        "while i2< i:\n",
        "    seq = \"dna\" + str(i2)\n",
        "    t3 = roda_com_entrada(algoritimos[3], seq)\n",
        "    timeParallelLocal.append(t3)\n",
        "    t3 = roda_com_entrada(algoritimos[4], seq)\n",
        "    timeParallelExaustivaSmithWaterman.append(t3)\n",
        "    print(\"I \", i2, \" de \", i, \" rodado\")\n",
        "    i2 += 1"
      ]
    },
    {
      "cell_type": "code",
      "execution_count": null,
      "metadata": {
        "id": "Uxyamn0OXTqZ"
      },
      "outputs": [],
      "source": [
        "fig = plt.figure(figsize=(55,30))\n",
        "heuristica_graph = fig.add_subplot(133, projection='3d')\n",
        "heuristica_graph.plot_trisurf(tamanho2UtilizadoReal, tamanho1UtilizadoReal, timeParallelLocal,cmap='magma')\n",
        "heuristica_graph.set_xlabel('Tamanho da sequencia B')\n",
        "heuristica_graph.set_ylabel('Tamanho da sequencia A')\n",
        "heuristica_graph.set_zlabel('Tempo (ms)')\n",
        "heuristica_graph.set_title('Busca Local Paralela na CPU')"
      ]
    },
    {
      "cell_type": "code",
      "execution_count": null,
      "metadata": {
        "id": "ej153xufXTqa"
      },
      "outputs": [],
      "source": [
        "fig = plt.figure(figsize=(55,30))\n",
        "heuristica_graph = fig.add_subplot(133, projection='3d')\n",
        "heuristica_graph.plot_trisurf(tamanho2UtilizadoReal, tamanho1UtilizadoReal, timeParallelExaustivaSmithWaterman,cmap='magma')\n",
        "heuristica_graph.set_xlabel('Tamanho da sequencia B')\n",
        "heuristica_graph.set_ylabel('Tamanho da sequencia A')\n",
        "heuristica_graph.set_zlabel('Tempo (ms)')\n",
        "heuristica_graph.set_title('Busca Exaustiva com Heuristica Smith-Waterman')"
      ]
    },
    {
      "cell_type": "markdown",
      "metadata": {
        "id": "qF5Nx6uqXTqb"
      },
      "source": [
        "## Busca Local Paralelizado na CPU ##\n",
        "\n"
      ]
    },
    {
      "cell_type": "markdown",
      "metadata": {
        "id": "s36IsqWuXTqb"
      },
      "source": [
        "## Busca Exaustiva Com Heurística de Smith-Waterman ##\n",
        "\n"
      ]
    }
  ],
  "metadata": {
    "kernelspec": {
      "display_name": "Python 3",
      "language": "python",
      "name": "python3"
    },
    "language_info": {
      "codemirror_mode": {
        "name": "ipython",
        "version": 3
      },
      "file_extension": ".py",
      "mimetype": "text/x-python",
      "name": "python",
      "nbconvert_exporter": "python",
      "pygments_lexer": "ipython3",
      "version": "3.8.2"
    },
    "colab": {
      "name": "Untitled.ipynb",
      "provenance": [],
      "history_visible": true,
      "include_colab_link": true
    },
    "accelerator": "GPU"
  },
  "nbformat": 4,
  "nbformat_minor": 0
}