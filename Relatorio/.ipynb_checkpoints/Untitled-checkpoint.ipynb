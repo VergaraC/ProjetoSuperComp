{
 "cells": [
  {
   "cell_type": "code",
   "execution_count": 9,
   "metadata": {},
   "outputs": [],
   "source": [
    "import matplotlib.pyplot as plt\n",
    "import os\n",
    "import numpy as np\n",
    "import random\n",
    "import pandas as pd\n",
    "import time\n",
    "import subprocess\n",
    "import pickle\n",
    "from mpl_toolkits.mplot3d import Axes3D\n"
   ]
  },
  {
   "cell_type": "code",
   "execution_count": 10,
   "metadata": {},
   "outputs": [],
   "source": [
    "algoritimos = [\"./exaustiva\", \"./random\", \"./smithWaterman\"]"
   ]
  },
  {
   "cell_type": "code",
   "execution_count": 15,
   "metadata": {},
   "outputs": [],
   "source": [
    "def createDnaSequences():\n",
    "    seqList= list()\n",
    "    for n in range(1,200):\n",
    "       for m in range(1,200):\n",
    "        \n",
    "   \n",
    "        seq=[str(n)+'\\n',\n",
    "             str(m)+'\\n',\n",
    "             ''.join(random.choices(['A','T','C','G','-'],k=n))+'\\n',\n",
    "             ''.join(random.choices(['A','T','C','G','-'],k=m))]\n",
    "        seqList.append(seq)\n",
    "    return seqList"
   ]
  },
  {
   "cell_type": "code",
   "execution_count": 17,
   "metadata": {},
   "outputs": [],
   "source": [
    "#print(createDnaSequences())"
   ]
  },
  {
   "cell_type": "code",
   "execution_count": null,
   "metadata": {},
   "outputs": [],
   "source": [
    "for seq in seqList:\n",
    "    "
   ]
  }
 ],
 "metadata": {
  "kernelspec": {
   "display_name": "Python 3",
   "language": "python",
   "name": "python3"
  },
  "language_info": {
   "codemirror_mode": {
    "name": "ipython",
    "version": 3
   },
   "file_extension": ".py",
   "mimetype": "text/x-python",
   "name": "python",
   "nbconvert_exporter": "python",
   "pygments_lexer": "ipython3",
   "version": "3.8.2"
  }
 },
 "nbformat": 4,
 "nbformat_minor": 4
}
